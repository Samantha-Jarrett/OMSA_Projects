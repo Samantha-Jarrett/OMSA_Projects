{
 "cells": [
  {
   "cell_type": "markdown",
   "id": "e095b4ec",
   "metadata": {},
   "source": [
    "# DMSL HW5 Code"
   ]
  },
  {
   "cell_type": "code",
   "execution_count": 1,
   "id": "bd9b8c3b",
   "metadata": {},
   "outputs": [],
   "source": [
    "import pandas as pd\n",
    "import numpy as np\n",
    "from matplotlib import pyplot as plt\n",
    "import seaborn as sns\n",
    "from sklearn.impute import SimpleImputer\n",
    "from sklearn.model_selection import train_test_split\n",
    "from sklearn.feature_selection import SelectKBest\n",
    "from sklearn.feature_selection import chi2\n",
    "from sklearn.metrics import accuracy_score, confusion_matrix\n",
    "from sklearn.linear_model import LogisticRegression\n",
    "from sklearn.tree import DecisionTreeClassifier\n",
    "from sklearn.neighbors import KNeighborsClassifier\n",
    "from sklearn import svm\n",
    "from sklearn.ensemble import RandomForestClassifier\n",
    "from sklearn.ensemble import AdaBoostClassifier\n",
    "from sklearn.ensemble import GradientBoostingClassifier\n",
    "from sklearn.model_selection import GridSearchCV\n",
    "from sklearn.model_selection import cross_val_score\n",
    "from sklearn.model_selection import KFold\n",
    "from sklearn.metrics import classification_report\n",
    "import warnings\n",
    "warnings.filterwarnings('ignore')"
   ]
  },
  {
   "cell_type": "markdown",
   "id": "b545c581",
   "metadata": {},
   "source": [
    "## Preprocessing"
   ]
  },
  {
   "cell_type": "code",
   "execution_count": 2,
   "id": "0df09361",
   "metadata": {},
   "outputs": [
    {
     "data": {
      "text/plain": [
       "Index(['pclass', 'survived', 'name', 'sex', 'age', 'sibsp', 'parch', 'ticket',\n",
       "       'fare', 'cabin', 'embarked', 'boat', 'body', 'home.dest'],\n",
       "      dtype='object')"
      ]
     },
     "execution_count": 2,
     "metadata": {},
     "output_type": "execute_result"
    }
   ],
   "source": [
    "df = pd.read_csv('titanic.csv')\n",
    "df.columns"
   ]
  },
  {
   "cell_type": "code",
   "execution_count": 3,
   "id": "0a74bdaa",
   "metadata": {},
   "outputs": [
    {
     "data": {
      "text/plain": [
       "(1310, 14)"
      ]
     },
     "execution_count": 3,
     "metadata": {},
     "output_type": "execute_result"
    }
   ],
   "source": [
    "df.shape"
   ]
  },
  {
   "cell_type": "code",
   "execution_count": 4,
   "id": "5f9903e3",
   "metadata": {},
   "outputs": [
    {
     "data": {
      "text/plain": [
       "pclass       float64\n",
       "survived     float64\n",
       "name          object\n",
       "sex           object\n",
       "age          float64\n",
       "sibsp        float64\n",
       "parch        float64\n",
       "ticket        object\n",
       "fare         float64\n",
       "cabin         object\n",
       "embarked      object\n",
       "boat          object\n",
       "body         float64\n",
       "home.dest     object\n",
       "dtype: object"
      ]
     },
     "execution_count": 4,
     "metadata": {},
     "output_type": "execute_result"
    }
   ],
   "source": [
    "df.dtypes"
   ]
  },
  {
   "cell_type": "code",
   "execution_count": 6,
   "id": "5c572294",
   "metadata": {},
   "outputs": [],
   "source": [
    "df = df.drop(columns=['boat', 'body', 'name', 'ticket', 'cabin', 'home.dest', 'embarked'], axis=1)"
   ]
  },
  {
   "cell_type": "code",
   "execution_count": 7,
   "id": "25440a73",
   "metadata": {},
   "outputs": [
    {
     "data": {
      "text/plain": [
       "pclass        1\n",
       "survived      1\n",
       "sex           1\n",
       "age         264\n",
       "sibsp         1\n",
       "parch         1\n",
       "fare          2\n",
       "dtype: int64"
      ]
     },
     "execution_count": 7,
     "metadata": {},
     "output_type": "execute_result"
    }
   ],
   "source": [
    "df.isnull().sum()"
   ]
  },
  {
   "cell_type": "code",
   "execution_count": 8,
   "id": "59057393",
   "metadata": {},
   "outputs": [
    {
     "data": {
      "text/html": [
       "<div>\n",
       "<style scoped>\n",
       "    .dataframe tbody tr th:only-of-type {\n",
       "        vertical-align: middle;\n",
       "    }\n",
       "\n",
       "    .dataframe tbody tr th {\n",
       "        vertical-align: top;\n",
       "    }\n",
       "\n",
       "    .dataframe thead th {\n",
       "        text-align: right;\n",
       "    }\n",
       "</style>\n",
       "<table border=\"1\" class=\"dataframe\">\n",
       "  <thead>\n",
       "    <tr style=\"text-align: right;\">\n",
       "      <th></th>\n",
       "      <th>pclass</th>\n",
       "      <th>survived</th>\n",
       "      <th>sex</th>\n",
       "      <th>age</th>\n",
       "      <th>sibsp</th>\n",
       "      <th>parch</th>\n",
       "      <th>fare</th>\n",
       "    </tr>\n",
       "  </thead>\n",
       "  <tbody>\n",
       "    <tr>\n",
       "      <th>0</th>\n",
       "      <td>1.0</td>\n",
       "      <td>1.0</td>\n",
       "      <td>female</td>\n",
       "      <td>29.0000</td>\n",
       "      <td>0.0</td>\n",
       "      <td>0.0</td>\n",
       "      <td>211.3375</td>\n",
       "    </tr>\n",
       "    <tr>\n",
       "      <th>1</th>\n",
       "      <td>1.0</td>\n",
       "      <td>1.0</td>\n",
       "      <td>male</td>\n",
       "      <td>0.9167</td>\n",
       "      <td>1.0</td>\n",
       "      <td>2.0</td>\n",
       "      <td>151.5500</td>\n",
       "    </tr>\n",
       "    <tr>\n",
       "      <th>2</th>\n",
       "      <td>1.0</td>\n",
       "      <td>0.0</td>\n",
       "      <td>female</td>\n",
       "      <td>2.0000</td>\n",
       "      <td>1.0</td>\n",
       "      <td>2.0</td>\n",
       "      <td>151.5500</td>\n",
       "    </tr>\n",
       "    <tr>\n",
       "      <th>3</th>\n",
       "      <td>1.0</td>\n",
       "      <td>0.0</td>\n",
       "      <td>male</td>\n",
       "      <td>30.0000</td>\n",
       "      <td>1.0</td>\n",
       "      <td>2.0</td>\n",
       "      <td>151.5500</td>\n",
       "    </tr>\n",
       "    <tr>\n",
       "      <th>4</th>\n",
       "      <td>1.0</td>\n",
       "      <td>0.0</td>\n",
       "      <td>female</td>\n",
       "      <td>25.0000</td>\n",
       "      <td>1.0</td>\n",
       "      <td>2.0</td>\n",
       "      <td>151.5500</td>\n",
       "    </tr>\n",
       "  </tbody>\n",
       "</table>\n",
       "</div>"
      ],
      "text/plain": [
       "   pclass  survived     sex      age  sibsp  parch      fare\n",
       "0     1.0       1.0  female  29.0000    0.0    0.0  211.3375\n",
       "1     1.0       1.0    male   0.9167    1.0    2.0  151.5500\n",
       "2     1.0       0.0  female   2.0000    1.0    2.0  151.5500\n",
       "3     1.0       0.0    male  30.0000    1.0    2.0  151.5500\n",
       "4     1.0       0.0  female  25.0000    1.0    2.0  151.5500"
      ]
     },
     "execution_count": 8,
     "metadata": {},
     "output_type": "execute_result"
    }
   ],
   "source": [
    "df.head()"
   ]
  },
  {
   "cell_type": "code",
   "execution_count": 9,
   "id": "6ac4cdfa",
   "metadata": {},
   "outputs": [],
   "source": [
    "df.sex.replace({'female': 0, 'male': 1}, inplace = True)"
   ]
  },
  {
   "cell_type": "code",
   "execution_count": 10,
   "id": "f51e06cf",
   "metadata": {},
   "outputs": [],
   "source": [
    "def alone(df):\n",
    "    if (df.sibsp == 0) & (df.parch == 0):\n",
    "        return 1\n",
    "    else:\n",
    "        return 0\n",
    "    \n",
    "df['alone'] =  df.apply(alone, axis=1)\n",
    "df = df.drop(['sibsp', 'parch'], axis=1)"
   ]
  },
  {
   "cell_type": "code",
   "execution_count": 11,
   "id": "d546d72c",
   "metadata": {},
   "outputs": [],
   "source": [
    "imputer = SimpleImputer(missing_values = np.nan, strategy = 'median')\n",
    "df.loc[:, 'age'] = imputer.fit_transform(np.array(df.age).reshape(-1, 1))"
   ]
  },
  {
   "cell_type": "code",
   "execution_count": 12,
   "id": "f26683b0",
   "metadata": {},
   "outputs": [
    {
     "data": {
      "text/plain": [
       "(1308, 6)"
      ]
     },
     "execution_count": 12,
     "metadata": {},
     "output_type": "execute_result"
    }
   ],
   "source": [
    "df = df.dropna()\n",
    "df.shape"
   ]
  },
  {
   "cell_type": "code",
   "execution_count": 13,
   "id": "9bbd79ee",
   "metadata": {},
   "outputs": [
    {
     "data": {
      "text/plain": [
       "Index(['pclass', 'survived', 'sex', 'age', 'fare', 'alone'], dtype='object')"
      ]
     },
     "execution_count": 13,
     "metadata": {},
     "output_type": "execute_result"
    }
   ],
   "source": [
    "df.columns"
   ]
  },
  {
   "cell_type": "markdown",
   "id": "1d429dc3",
   "metadata": {},
   "source": [
    "## EDA"
   ]
  },
  {
   "cell_type": "code",
   "execution_count": 14,
   "id": "6e55b955",
   "metadata": {},
   "outputs": [
    {
     "name": "stdout",
     "output_type": "stream",
     "text": [
      "3.0    708\n",
      "1.0    323\n",
      "2.0    277\n",
      "Name: pclass, dtype: int64\n",
      "\n",
      "\n",
      "0.0    808\n",
      "1.0    500\n",
      "Name: survived, dtype: int64\n",
      "\n",
      "\n",
      "1.0    842\n",
      "0.0    466\n",
      "Name: sex, dtype: int64\n",
      "\n",
      "\n",
      "28.0000    295\n",
      "24.0000     47\n",
      "22.0000     43\n",
      "21.0000     41\n",
      "30.0000     40\n",
      "          ... \n",
      "66.0000      1\n",
      "0.6667       1\n",
      "76.0000      1\n",
      "67.0000      1\n",
      "26.5000      1\n",
      "Name: age, Length: 97, dtype: int64\n",
      "\n",
      "\n",
      "8.0500     60\n",
      "13.0000    59\n",
      "7.7500     55\n",
      "26.0000    50\n",
      "7.8958     49\n",
      "           ..\n",
      "15.0500     1\n",
      "9.6875      1\n",
      "15.5792     1\n",
      "12.0000     1\n",
      "7.8750      1\n",
      "Name: fare, Length: 281, dtype: int64\n",
      "\n",
      "\n",
      "1    789\n",
      "0    519\n",
      "Name: alone, dtype: int64\n",
      "\n",
      "\n"
     ]
    }
   ],
   "source": [
    "for var in df.columns:\n",
    "    print(df[f'{var}'].value_counts())\n",
    "    print('\\n')"
   ]
  },
  {
   "cell_type": "code",
   "execution_count": 15,
   "id": "7f44b395",
   "metadata": {},
   "outputs": [
    {
     "data": {
      "text/plain": [
       "3.0    708\n",
       "1.0    323\n",
       "2.0    277\n",
       "Name: pclass, dtype: int64"
      ]
     },
     "execution_count": 15,
     "metadata": {},
     "output_type": "execute_result"
    }
   ],
   "source": [
    "df.pclass.value_counts()"
   ]
  },
  {
   "cell_type": "code",
   "execution_count": 16,
   "id": "70b3dc89",
   "metadata": {},
   "outputs": [
    {
     "data": {
      "image/png": "[encoded data removed]",
      "text/plain": [
       "<Figure size 576x432 with 6 Axes>"
      ]
     },
     "metadata": {
      "needs_background": "light"
     },
     "output_type": "display_data"
    }
   ],
   "source": [
    "df.hist(figsize=(8, 6))\n",
    "plt.tight_layout()\n",
    "plt.show()"
   ]
  },
  {
   "cell_type": "code",
   "execution_count": 17,
   "id": "b4132ad6",
   "metadata": {},
   "outputs": [
    {
     "data": {
      "text/plain": [
       "count    1308.000000\n",
       "mean       29.479485\n",
       "std        12.881658\n",
       "min         0.166700\n",
       "25%        22.000000\n",
       "50%        28.000000\n",
       "75%        35.000000\n",
       "max        80.000000\n",
       "Name: age, dtype: float64"
      ]
     },
     "execution_count": 17,
     "metadata": {},
     "output_type": "execute_result"
    }
   ],
   "source": [
    "df.age.describe()"
   ]
  },
  {
   "cell_type": "code",
   "execution_count": 18,
   "id": "76707373",
   "metadata": {},
   "outputs": [
    {
     "data": {
      "text/plain": [
       "count    1308.000000\n",
       "mean       33.295479\n",
       "std        51.758668\n",
       "min         0.000000\n",
       "25%         7.895800\n",
       "50%        14.454200\n",
       "75%        31.275000\n",
       "max       512.329200\n",
       "Name: fare, dtype: float64"
      ]
     },
     "execution_count": 18,
     "metadata": {},
     "output_type": "execute_result"
    }
   ],
   "source": [
    "df.fare.describe()"
   ]
  },
  {
   "cell_type": "code",
   "execution_count": 19,
   "id": "d1b0f667",
   "metadata": {},
   "outputs": [
    {
     "data": {
      "text/plain": [
       "0.6522277227722773"
      ]
     },
     "execution_count": 19,
     "metadata": {},
     "output_type": "execute_result"
    }
   ],
   "source": [
    "len(df[(df.survived == 0.0) & (df['pclass'] == 3)])/len(df[df.survived == 0.0])"
   ]
  },
  {
   "cell_type": "code",
   "execution_count": 20,
   "id": "7fba4451",
   "metadata": {},
   "outputs": [
    {
     "data": {
      "text/plain": [
       "0.7443502824858758"
      ]
     },
     "execution_count": 20,
     "metadata": {},
     "output_type": "execute_result"
    }
   ],
   "source": [
    "len(df[(df.survived == 0.0) & (df['pclass'] == 3)])/len(df[df['pclass'] == 3])"
   ]
  },
  {
   "cell_type": "code",
   "execution_count": 21,
   "id": "862d1601",
   "metadata": {},
   "outputs": [
    {
     "data": {
      "text/plain": [
       "0.697084917617237"
      ]
     },
     "execution_count": 21,
     "metadata": {},
     "output_type": "execute_result"
    }
   ],
   "source": [
    "len(df[(df.survived == 0.0) & (df.alone == 1)])/len(df[df.alone == 1])"
   ]
  },
  {
   "cell_type": "code",
   "execution_count": 22,
   "id": "4fc072ca",
   "metadata": {},
   "outputs": [
    {
     "data": {
      "text/plain": [
       "0.8087885985748219"
      ]
     },
     "execution_count": 22,
     "metadata": {},
     "output_type": "execute_result"
    }
   ],
   "source": [
    "len(df[(df.survived == 0.0) & (df.sex == 1)])/len(df[df.sex == 1])"
   ]
  },
  {
   "cell_type": "code",
   "execution_count": 23,
   "id": "c6f3d940",
   "metadata": {},
   "outputs": [
    {
     "data": {
      "text/plain": [
       "0.7274678111587983"
      ]
     },
     "execution_count": 23,
     "metadata": {},
     "output_type": "execute_result"
    }
   ],
   "source": [
    "len(df[(df.survived == 1.0) & (df.sex == 0)])/len(df[df.sex == 0])"
   ]
  },
  {
   "cell_type": "code",
   "execution_count": 24,
   "id": "92f6971a",
   "metadata": {},
   "outputs": [
    {
     "data": {
      "image/png": "[encoded data removed]",
      "text/plain": [
       "<Figure size 432x288 with 1 Axes>"
      ]
     },
     "metadata": {
      "needs_background": "light"
     },
     "output_type": "display_data"
    },
    {
     "data": {
      "image/png": "[encoded data removed]",
      "text/plain": [
       "<Figure size 432x288 with 1 Axes>"
      ]
     },
     "metadata": {
      "needs_background": "light"
     },
     "output_type": "display_data"
    },
    {
     "data": {
      "image/png": "[encoded data removed]",
      "text/plain": [
       "<Figure size 432x288 with 1 Axes>"
      ]
     },
     "metadata": {
      "needs_background": "light"
     },
     "output_type": "display_data"
    }
   ],
   "source": [
    "for var in ['pclass', 'alone', 'sex']:\n",
    "    sns.countplot(data=df, x=var, hue='survived')\n",
    "    plt.title(f'Survival by {var.title()}')\n",
    "    plt.grid(axis = 'y')\n",
    "    plt.show()"
   ]
  },
  {
   "cell_type": "code",
   "execution_count": 25,
   "id": "2df39f28",
   "metadata": {},
   "outputs": [
    {
     "data": {
      "image/png": "[encoded data removed]",
      "text/plain": [
       "<Figure size 1152x432 with 1 Axes>"
      ]
     },
     "metadata": {
      "needs_background": "light"
     },
     "output_type": "display_data"
    }
   ],
   "source": [
    "fig = plt.figure(figsize=(16,6))\n",
    "sns.kdeplot(data=df, x='fare', hue='survived')\n",
    "plt.show()"
   ]
  },
  {
   "cell_type": "code",
   "execution_count": 26,
   "id": "cb51af1c",
   "metadata": {},
   "outputs": [
    {
     "data": {
      "image/png": "[encoded data removed]",
      "text/plain": [
       "<Figure size 1152x432 with 1 Axes>"
      ]
     },
     "metadata": {
      "needs_background": "light"
     },
     "output_type": "display_data"
    }
   ],
   "source": [
    "fig = plt.figure(figsize=(16,6))\n",
    "sns.kdeplot(data=df, x='age', hue='survived')\n",
    "plt.show()"
   ]
  },
  {
   "cell_type": "code",
   "execution_count": 27,
   "id": "a79e8762",
   "metadata": {},
   "outputs": [
    {
     "data": {
      "text/plain": [
       "count    1308.000000\n",
       "mean       33.295479\n",
       "std        51.758668\n",
       "min         0.000000\n",
       "25%         7.895800\n",
       "50%        14.454200\n",
       "75%        31.275000\n",
       "max       512.329200\n",
       "Name: fare, dtype: float64"
      ]
     },
     "execution_count": 27,
     "metadata": {},
     "output_type": "execute_result"
    }
   ],
   "source": [
    "df.fare.describe()"
   ]
  },
  {
   "cell_type": "code",
   "execution_count": 28,
   "id": "5ded8073",
   "metadata": {},
   "outputs": [
    {
     "data": {
      "image/png": "[encoded data removed]",
      "text/plain": [
       "<Figure size 576x432 with 1 Axes>"
      ]
     },
     "metadata": {
      "needs_background": "light"
     },
     "output_type": "display_data"
    }
   ],
   "source": [
    "plt.figure(figsize=(8, 6))\n",
    "sns.boxplot(x='pclass', y='fare', data=df)\n",
    "plt.xlabel('Pclass')\n",
    "plt.ylabel('Fare')\n",
    "plt.xticks(rotation=90)\n",
    "plt.title(f'Box Plot of Fare by Pclass')\n",
    "plt.show()"
   ]
  },
  {
   "cell_type": "code",
   "execution_count": 29,
   "id": "faac2caf",
   "metadata": {},
   "outputs": [
    {
     "name": "stdout",
     "output_type": "stream",
     "text": [
      "P-Value:  8.904613790086322e-129\n"
     ]
    }
   ],
   "source": [
    "from scipy.stats import f_oneway\n",
    " \n",
    "grouped=df.groupby('pclass')['fare'].apply(list)\n",
    "anova_res = f_oneway(*grouped)\n",
    "print('P-Value: ', anova_res[1])"
   ]
  },
  {
   "cell_type": "markdown",
   "id": "5d2a1e74",
   "metadata": {},
   "source": [
    "## Feature Selection"
   ]
  },
  {
   "cell_type": "code",
   "execution_count": 31,
   "id": "61f44b3a",
   "metadata": {},
   "outputs": [],
   "source": [
    "df = pd.get_dummies(df, columns=['pclass'], drop_first=True)"
   ]
  },
  {
   "cell_type": "code",
   "execution_count": 32,
   "id": "81ef424d",
   "metadata": {},
   "outputs": [
    {
     "data": {
      "text/plain": [
       "Index(['survived', 'sex', 'age', 'fare', 'alone', 'pclass_2.0', 'pclass_3.0'], dtype='object')"
      ]
     },
     "execution_count": 32,
     "metadata": {},
     "output_type": "execute_result"
    }
   ],
   "source": [
    "df.columns"
   ]
  },
  {
   "cell_type": "code",
   "execution_count": 33,
   "id": "5363bda0",
   "metadata": {},
   "outputs": [],
   "source": [
    "X = df[['sex', 'age', 'fare', 'alone', 'pclass_2.0', 'pclass_3.0']]\n",
    "y = df.survived\n",
    "X_train, X_test, y_train, y_test = train_test_split(X, y, test_size=0.2, random_state=42)"
   ]
  },
  {
   "cell_type": "code",
   "execution_count": 34,
   "id": "d05988b1",
   "metadata": {},
   "outputs": [
    {
     "name": "stdout",
     "output_type": "stream",
     "text": [
      "Rank 1: fare (Score: 4783.99, P-Value: 0.0)\n",
      "Rank 2: sex (Score: 109.44, P-Value: 1.3020781884554591e-25)\n",
      "Rank 3: pclass_3.0 (Score: 28.48, P-Value: 9.471695711192964e-08)\n",
      "Rank 4: alone (Score: 17.54, P-Value: 2.805977653675356e-05)\n",
      "Rank 5: age (Score: 11.28, P-Value: 0.0007826916133751593)\n",
      "Rank 6: pclass_2.0 (Score: 0.78, P-Value: 0.3769649874276526)\n"
     ]
    }
   ],
   "source": [
    "k_best = SelectKBest(score_func=chi2, k='all')\n",
    "X_train_selected = k_best.fit_transform(X_train, y_train)\n",
    "feature_scores = k_best.scores_\n",
    "p_vals = k_best.pvalues_\n",
    "feature_names =X.columns\n",
    "feature_ranking = list(zip(feature_names, feature_scores, p_vals))\n",
    "feature_ranking.sort(key=lambda x: x[1], reverse=True)\n",
    "\n",
    "for i, (feature_name, score, p_val) in enumerate(feature_ranking):\n",
    "    print(f\"Rank {i + 1}: {feature_name} (Score: {score:.2f}, P-Value: {p_val})\")"
   ]
  },
  {
   "cell_type": "code",
   "execution_count": 35,
   "id": "e4ef9bf0",
   "metadata": {},
   "outputs": [],
   "source": [
    "X = df[['sex', 'pclass_3.0', 'alone', 'age']]\n",
    "y = df.survived\n",
    "X_train, X_test, y_train, y_test = train_test_split(X, y, test_size=0.2, random_state=42)"
   ]
  },
  {
   "cell_type": "markdown",
   "id": "04430136",
   "metadata": {},
   "source": [
    "## Modeling\n",
    "**Logistic Regression**"
   ]
  },
  {
   "cell_type": "code",
   "execution_count": 30,
   "id": "28146044",
   "metadata": {},
   "outputs": [],
   "source": [
    "def confusion(df, y_test, y_pred):\n",
    "    # Confusion Matrix\n",
    "    cats = list(df.survived.unique())\n",
    "    cm = confusion_matrix(y_test, y_pred)\n",
    "    plt.figure(figsize=(5, 4))\n",
    "    sns.heatmap(cm, annot=True, fmt='d', cmap='Blues', \n",
    "                xticklabels=cats, \n",
    "                yticklabels=cats)\n",
    "    plt.xlabel('Predicted')\n",
    "    plt.ylabel('Actual')\n",
    "    plt.title('Confusion Matrix')\n",
    "    plt.show()"
   ]
  },
  {
   "cell_type": "code",
   "execution_count": 36,
   "id": "4eb03d11",
   "metadata": {},
   "outputs": [
    {
     "name": "stdout",
     "output_type": "stream",
     "text": [
      "Best Parameters:\n",
      "{'C': 0.1}\n",
      "Classification Report:\n",
      "              precision    recall  f1-score   support\n",
      "\n",
      "         0.0       0.77      0.83      0.80       156\n",
      "         1.0       0.72      0.63      0.67       106\n",
      "\n",
      "    accuracy                           0.75       262\n",
      "   macro avg       0.74      0.73      0.74       262\n",
      "weighted avg       0.75      0.75      0.75       262\n",
      "\n"
     ]
    },
    {
     "data": {
      "image/png": "[encoded data removed]",
      "text/plain": [
       "<Figure size 360x288 with 2 Axes>"
      ]
     },
     "metadata": {
      "needs_background": "light"
     },
     "output_type": "display_data"
    }
   ],
   "source": [
    "param_grid = {\n",
    "    'C': [0.001, 0.01, 0.1, 1, 10, 100],\n",
    "}\n",
    "\n",
    "log_classifier = LogisticRegression(max_iter=1000, random_state=42)\n",
    "grid_search = GridSearchCV(estimator=log_classifier, param_grid=param_grid, cv=5, scoring='accuracy')\n",
    "grid_search.fit(X_train, y_train)\n",
    "best_params = grid_search.best_params_\n",
    "best_lr_model = grid_search.best_estimator_\n",
    "\n",
    "print('Best Parameters:')\n",
    "print(best_params)\n",
    "\n",
    "y_pred = best_lr_model.predict(X_test)\n",
    "print(\"Classification Report:\")\n",
    "print(classification_report(y_test, y_pred))\n",
    "confusion(df, y_test, y_pred)"
   ]
  },
  {
   "cell_type": "code",
   "execution_count": 37,
   "id": "a28899b7",
   "metadata": {},
   "outputs": [
    {
     "name": "stdout",
     "output_type": "stream",
     "text": [
      "Coefficients: [[-1.98359043 -0.96216589 -0.2079606  -0.01458636]]\n"
     ]
    }
   ],
   "source": [
    "print(\"Coefficients:\", best_lr_model.coef_)\n",
    "# 'sex', 'pclass_3.0', 'alone', 'age'"
   ]
  },
  {
   "cell_type": "markdown",
   "id": "36d38f54",
   "metadata": {},
   "source": [
    "**K-Nearest Neighbors**"
   ]
  },
  {
   "cell_type": "code",
   "execution_count": 38,
   "id": "7432f60d",
   "metadata": {},
   "outputs": [
    {
     "name": "stdout",
     "output_type": "stream",
     "text": [
      "Best Parameters:\n",
      "{'n_neighbors': 5}\n",
      "Classification Report:\n",
      "              precision    recall  f1-score   support\n",
      "\n",
      "         0.0       0.73      0.84      0.78       156\n",
      "         1.0       0.70      0.55      0.61       106\n",
      "\n",
      "    accuracy                           0.72       262\n",
      "   macro avg       0.72      0.69      0.70       262\n",
      "weighted avg       0.72      0.72      0.71       262\n",
      "\n"
     ]
    },
    {
     "data": {
      "image/png": "[encoded data removed]",
      "text/plain": [
       "<Figure size 360x288 with 2 Axes>"
      ]
     },
     "metadata": {
      "needs_background": "light"
     },
     "output_type": "display_data"
    }
   ],
   "source": [
    "param_grid = {\n",
    "    'n_neighbors': [2, 5, 10, 15]\n",
    "}\n",
    "\n",
    "knn_classifier = KNeighborsClassifier()\n",
    "grid_search = GridSearchCV(estimator=knn_classifier, param_grid=param_grid, cv=5, scoring='accuracy')\n",
    "grid_search.fit(X_train, y_train)\n",
    "best_params = grid_search.best_params_\n",
    "best_knn_model = grid_search.best_estimator_\n",
    "\n",
    "print('Best Parameters:')\n",
    "print(best_params)\n",
    "\n",
    "y_pred = best_knn_model.predict(X_test)\n",
    "print(\"Classification Report:\")\n",
    "print(classification_report(y_test, y_pred))\n",
    "confusion(df, y_test, y_pred)"
   ]
  },
  {
   "cell_type": "markdown",
   "id": "c04d78d4",
   "metadata": {},
   "source": [
    "**Support Vector Machine**"
   ]
  },
  {
   "cell_type": "code",
   "execution_count": 39,
   "id": "2e87774a",
   "metadata": {},
   "outputs": [
    {
     "name": "stdout",
     "output_type": "stream",
     "text": [
      "Best Parameters:\n",
      "{'C': 10, 'kernel': 'rbf'}\n",
      "Classification Report:\n",
      "              precision    recall  f1-score   support\n",
      "\n",
      "         0.0       0.79      0.82      0.80       156\n",
      "         1.0       0.72      0.67      0.69       106\n",
      "\n",
      "    accuracy                           0.76       262\n",
      "   macro avg       0.75      0.75      0.75       262\n",
      "weighted avg       0.76      0.76      0.76       262\n",
      "\n"
     ]
    },
    {
     "data": {
      "image/png": "[encoded data removed]",
      "text/plain": [
       "<Figure size 360x288 with 2 Axes>"
      ]
     },
     "metadata": {
      "needs_background": "light"
     },
     "output_type": "display_data"
    }
   ],
   "source": [
    "param_grid = {\n",
    "    'C': [0.1, 1, 10], \n",
    "    'kernel': ['linear', 'rbf', 'poly'], \n",
    "}\n",
    "\n",
    "svm_classifier = svm.SVC()\n",
    "grid_search = GridSearchCV(estimator=svm_classifier, param_grid=param_grid, cv=5, scoring='accuracy')\n",
    "grid_search.fit(X_train, y_train)\n",
    "best_params = grid_search.best_params_\n",
    "best_svm_model = grid_search.best_estimator_\n",
    "\n",
    "print('Best Parameters:')\n",
    "print(best_params)\n",
    "\n",
    "y_pred = best_svm_model.predict(X_test)\n",
    "print(\"Classification Report:\")\n",
    "print(classification_report(y_test, y_pred))\n",
    "confusion(df, y_test, y_pred)"
   ]
  },
  {
   "cell_type": "markdown",
   "id": "9fd95f7e",
   "metadata": {},
   "source": [
    "**Decision Tree**"
   ]
  },
  {
   "cell_type": "code",
   "execution_count": 40,
   "id": "cc240aca",
   "metadata": {},
   "outputs": [
    {
     "name": "stdout",
     "output_type": "stream",
     "text": [
      "Best Parameters:\n",
      "{'criterion': 'entropy', 'max_depth': None, 'min_samples_split': 5}\n",
      "Classification Report:\n",
      "              precision    recall  f1-score   support\n",
      "\n",
      "         0.0       0.76      0.88      0.82       156\n",
      "         1.0       0.78      0.59      0.67       106\n",
      "\n",
      "    accuracy                           0.77       262\n",
      "   macro avg       0.77      0.74      0.75       262\n",
      "weighted avg       0.77      0.77      0.76       262\n",
      "\n"
     ]
    },
    {
     "data": {
      "image/png": "[encoded data removed]",
      "text/plain": [
       "<Figure size 360x288 with 2 Axes>"
      ]
     },
     "metadata": {
      "needs_background": "light"
     },
     "output_type": "display_data"
    }
   ],
   "source": [
    "param_grid = {\n",
    "    'max_depth': [None, 10, 20, 30],\n",
    "    'min_samples_split': [2, 5, 10], \n",
    "    'criterion': ['gini', 'entropy']  \n",
    "}\n",
    "\n",
    "dt_classifier = DecisionTreeClassifier(random_state=42)\n",
    "grid_search = GridSearchCV(estimator=dt_classifier, param_grid=param_grid, cv=5, scoring='accuracy')\n",
    "grid_search.fit(X_train, y_train)\n",
    "best_params = grid_search.best_params_\n",
    "best_dt_model = grid_search.best_estimator_\n",
    "\n",
    "print('Best Parameters:')\n",
    "print(best_params)\n",
    "\n",
    "y_pred = best_dt_model.predict(X_test)\n",
    "print(\"Classification Report:\")\n",
    "print(classification_report(y_test, y_pred))\n",
    "confusion(df, y_test, y_pred)"
   ]
  },
  {
   "cell_type": "markdown",
   "id": "dd04daf6",
   "metadata": {},
   "source": [
    "**Random Forest**"
   ]
  },
  {
   "cell_type": "code",
   "execution_count": 41,
   "id": "8307e436",
   "metadata": {},
   "outputs": [
    {
     "name": "stdout",
     "output_type": "stream",
     "text": [
      "Best Parameters:\n",
      "{'max_depth': None, 'min_samples_split': 10, 'n_estimators': 300}\n",
      "Classification Report:\n",
      "              precision    recall  f1-score   support\n",
      "\n",
      "         0.0       0.78      0.89      0.83       156\n",
      "         1.0       0.80      0.63      0.71       106\n",
      "\n",
      "    accuracy                           0.79       262\n",
      "   macro avg       0.79      0.76      0.77       262\n",
      "weighted avg       0.79      0.79      0.78       262\n",
      "\n"
     ]
    },
    {
     "data": {
      "image/png": "[encoded data removed]",
      "text/plain": [
       "<Figure size 360x288 with 2 Axes>"
      ]
     },
     "metadata": {
      "needs_background": "light"
     },
     "output_type": "display_data"
    }
   ],
   "source": [
    "param_grid = {\n",
    "    'n_estimators': [100, 200, 300],\n",
    "    'max_depth': [None, 10, 20, 30],\n",
    "    'min_samples_split': [2, 5, 10]\n",
    "}\n",
    "\n",
    "rf_classifier = RandomForestClassifier(random_state=42)\n",
    "grid_search = GridSearchCV(estimator=rf_classifier, param_grid=param_grid, cv=5, scoring='accuracy')\n",
    "grid_search.fit(X_train, y_train)\n",
    "best_params = grid_search.best_params_\n",
    "best_rf_model = grid_search.best_estimator_\n",
    "\n",
    "print('Best Parameters:')\n",
    "print(best_params)\n",
    "\n",
    "y_pred = best_rf_model.predict(X_test)\n",
    "print(\"Classification Report:\")\n",
    "print(classification_report(y_test, y_pred))\n",
    "confusion(df, y_test, y_pred)"
   ]
  },
  {
   "cell_type": "markdown",
   "id": "87ef0bc1",
   "metadata": {},
   "source": [
    "**Gradient Boosting**"
   ]
  },
  {
   "cell_type": "code",
   "execution_count": 46,
   "id": "0391c261",
   "metadata": {},
   "outputs": [
    {
     "name": "stdout",
     "output_type": "stream",
     "text": [
      "Best Parameters:\n",
      "{'learning_rate': 0.01, 'max_depth': 10, 'min_samples_split': 10, 'n_estimators': 100}\n",
      "Classification Report:\n",
      "              precision    recall  f1-score   support\n",
      "\n",
      "         0.0       0.77      0.90      0.83       156\n",
      "         1.0       0.80      0.61      0.70       106\n",
      "\n",
      "    accuracy                           0.78       262\n",
      "   macro avg       0.79      0.76      0.76       262\n",
      "weighted avg       0.79      0.78      0.78       262\n",
      "\n"
     ]
    },
    {
     "data": {
      "image/png": "[encoded data removed]",
      "text/plain": [
       "<Figure size 360x288 with 2 Axes>"
      ]
     },
     "metadata": {
      "needs_background": "light"
     },
     "output_type": "display_data"
    }
   ],
   "source": [
    "param_grid = {\n",
    "    'n_estimators': [50, 100, 200],\n",
    "    'max_depth': [None, 10, 20, 30],\n",
    "    'min_samples_split': [2, 5, 10],\n",
    "    'learning_rate': [0.01, 0.1, 0.2],\n",
    "}\n",
    "\n",
    "gboost_classifier = GradientBoostingClassifier(random_state=42)\n",
    "grid_search = GridSearchCV(estimator=gboost_classifier, param_grid=param_grid, cv=5, scoring='accuracy')\n",
    "grid_search.fit(X_train, y_train)\n",
    "best_params = grid_search.best_params_\n",
    "print('Best Parameters:')\n",
    "print(best_params)\n",
    "\n",
    "best_gboost_model = grid_search.best_estimator_\n",
    "y_pred = best_gboost_model.predict(X_test)\n",
    "\n",
    "print(\"Classification Report:\")\n",
    "print(classification_report(y_test, y_pred))\n",
    "confusion(df, y_test, y_pred)"
   ]
  }
 ],
 "metadata": {
  "kernelspec": {
   "display_name": "Python 3",
   "language": "python",
   "name": "python3"
  },
  "language_info": {
   "codemirror_mode": {
    "name": "ipython",
    "version": 3
   },
   "file_extension": ".py",
   "mimetype": "text/x-python",
   "name": "python",
   "nbconvert_exporter": "python",
   "pygments_lexer": "ipython3",
   "version": "3.8.8"
  }
 },
 "nbformat": 4,
 "nbformat_minor": 5
}
